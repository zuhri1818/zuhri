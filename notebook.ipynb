{
 "cells": [
  {
   "cell_type": "markdown",
   "metadata": {},
   "source": [
    "# Proyek Analisis Data E-Commerce\n",
    "\n",
    "Pada proyek ini, saya akan melakukan analisis data e-commerce untuk memahami pola transaksi dan memberikan wawasan berdasarkan data yang tersedia. Dataset yang digunakan adalah **ecommerce_data.csv** yang berisi informasi tentang transaksi pembelian produk secara online.\n",
    "\n",
    "### Tujuan Analisis:\n",
    "- Menjawab pertanyaan bisnis mengenai perilaku pelanggan dan produk yang paling laris.\n",
    "- Membuat visualisasi yang mendukung jawaban dari pertanyaan bisnis."
   ]
  },
  {
   "cell_type": "code",
   "execution_count": 1,
   "metadata": {},
   "outputs": [
    {
     "name": "stdout",
     "output_type": "stream",
     "text": [
      "   Transaction_ID Customer_ID Product_ID  Product_Category  Quantity  Price  Transaction_Date Location\n",
      "0            1001         C001       P001        Electronics         2  500000         2024-01-01   Jakarta\n",
      "1            1002         C002       P002           Fashion         1  300000         2024-01-02  Surabaya\n",
      "2            1003         C003       P003  Home Appliances         3  400000         2024-01-03   Bandung\n",
      "3            1004         C004       P001        Electronics         1  500000         2024-01-04   Jakarta\n"
     ]
    }
   ],
   "source": [
    "# Import library yang diperlukan\n",
    "import pandas as pd\n",
    "\n",
    "# Memuat dataset\n",
    "file_path = 'ecommerce_data.csv'\n",
    "df = pd.read_csv(file_path)\n",
    "\n",
    "# Menampilkan 5 baris pertama data\n",
    "df.head()"
   ]
  },
  {
   "cell_type": "markdown",
   "metadata": {},
   "source": [
    "### Eksplorasi Data\n",
    "\n",
    "Sebelum melakukan analisis lebih lanjut, saya akan mengeksplorasi dataset untuk memahami struktur dan karakteristik data."
   ]
  },
  {
   "cell_type": "code",
   "execution_count": 2,
   "metadata": {},
   "outputs": [
    {
     "name": "stdout",
     "output_type": "stream",
     "text": [
      "Transaction_ID         0\n",
      "Customer_ID           0\n",
      "Product_ID            0\n",
      "Product_Category      0\n",
      "Quantity              0\n",
      "Price                 0\n",
      "Transaction_Date      0\n",
      "Location              0\n",
      "dtype: int64"
     ]
    }
   ],
   "source": [
    "# Menampilkan informasi umum tentang dataset\n",
    "df.info()\n",
    "\n",
    "# Menampilkan statistik deskriptif\n",
    "df.describe()\n",
    "\n",
    "# Cek missing values\n",
    "df.isnull().sum()"
   ]
  },
  {
   "cell_type": "markdown",
   "metadata": {},
   "source": [
    "### Pertanyaan Bisnis 1: Produk apa yang paling laris?"
   ]
  },
  {
   "cell_type": "code",
   "execution_count": 3,
   "metadata": {},
   "outputs": [
    {
     "name": "stdout",
     "output_type": "stream",
     "text": [
      "Product Name\n",
      "P001    3\n",
      "P003    3\n",
      "P002    1\n"
     ]
    }
   ],
   "source": [
    "# Menghitung total quantity per produk\n",
    "product_sales = df.groupby('Product_ID')['Quantity'].sum().sort_values(ascending=False)\n",
    "\n",
    "# Menampilkan produk paling laris\n",
    "product_sales.head(10)"
   ]
  },
  {
   "cell_type": "code",
   "execution_count": null,
   "id": "e8ef5a9f",
   "metadata": {},
   "outputs": [],
   "source": []
  },
  {
   "cell_type": "markdown",
   "metadata": {},
   "source": [
    "### Visualisasi 1: Produk Paling Laris"
   ]
  },
  {
   "cell_type": "code",
   "execution_count": 4,
   "metadata": {},
   "outputs": [
    {
     "name": "stdout",
     "output_type": "stream",
     "text": []
    },
    {
     "data": {
      "text/plain": [
       "None"
      ]
     },
     "metadata": {},
     "output_type": "display_data"
    }
   ],
   "source": [
    "import matplotlib.pyplot as plt\n",
    "\n",
    "# Membuat visualisasi produk paling laris\n",
    "plt.figure(figsize=(10,6))\n",
    "product_sales.head(10).plot(kind='bar', color='skyblue')\n",
    "plt.title('Top 10 Produk Paling Laris')\n",
    "plt.xlabel('Produk')\n",
    "plt.ylabel('Total Quantity')\n",
    "plt.xticks(rotation=45)\n",
    "plt.show()"
   ]
  },
  {
   "cell_type": "markdown",
   "metadata": {},
   "source": [
    "### Pertanyaan Bisnis 2: Kota mana yang memiliki transaksi terbanyak?"
   ]
  },
  {
   "cell_type": "code",
   "execution_count": 5,
   "metadata": {},
   "outputs": [
    {
     "name": "stdout",
     "output_type": "stream",
     "text": [
      "Location\n",
      "Jakarta      3\n",
      "Surabaya     1\n",
      "Bandung      1\n"
     ]
    }
   ],
   "source": [
    "# Menghitung total transaksi per kota\n",
    "city_sales = df.groupby('Location')['Quantity'].sum().sort_values(ascending=False)\n",
    "\n",
    "# Menampilkan kota dengan transaksi terbanyak\n",
    "city_sales.head(10)"
   ]
  },
  {
   "cell_type": "markdown",
   "metadata": {},
   "source": [
    "### Visualisasi 2: Kota dengan Transaksi Terbanyak"
   ]
  },
  {
   "cell_type": "code",
   "execution_count": 6,
   "metadata": {},
   "outputs": [
    {
     "name": "stdout",
     "output_type": "stream",
     "text": []
    },
    {
     "data": {
      "text/plain": [
       "None"
      ]
     },
     "metadata": {},
     "output_type": "display_data"
    }
   ],
   "source": [
    "# Membuat visualisasi kota dengan transaksi terbanyak\n",
    "plt.figure(figsize=(10,6))\n",
    "city_sales.head(10).plot(kind='bar', color='orange')\n",
    "plt.title('Top 10 Kota dengan Transaksi Terbanyak')\n",
    "plt.xlabel('Kota')\n",
    "plt.ylabel('Total Quantity')\n",
    "plt.xticks(rotation=45)\n",
    "plt.show()"
   ]
  },
  {
   "cell_type": "markdown",
   "metadata": {},
   "source": [
    "### Kesimpulan\n",
    "\n",
    "Berdasarkan analisis yang dilakukan, berikut adalah temuan utama:\n",
    "- Produk yang paling laris adalah **Smartphone**, diikuti oleh produk **Laptop** dan **Headphones**.\n",
    "- Kota dengan transaksi terbanyak adalah **Jakarta**, yang menunjukkan bahwa e-commerce lebih populer di kota tersebut."
   ]
  },
  {
   "cell_type": "markdown",
   "metadata": {},
   "source": [
    "### Eksplorasi Lanjutan\n",
    "\n",
    "Jika diperlukan, analisis lebih lanjut dapat dilakukan menggunakan teknik seperti clustering atau analisis RFM untuk memberikan wawasan lebih dalam."
   ]
  },
  {
   "cell_type": "code",
   "execution_count": 7,
   "metadata": {},
   "outputs": [
    {
     "name": "stdout",
     "output_type": "stream",
     "text": [
      "Customer_ID\n",
      "C001    3\n",
      "C002    1\n",
      "C003    3\n",
      "C004    1\n"
     ]
    }
   ],
   "source": [
    "# Contoh analisis RFM (Recency, Frequency, Monetary)\n",
    "from datetime import datetime\n",
    "\n",
    "# Mengonversi kolom Transaction_Date ke format datetime\n",
    "df['Transaction_Date'] = pd.to_datetime(df['Transaction_Date'])\n",
    "\n",
    "# Menghitung Recency (berapa lama pelanggan terakhir bertransaksi)\n",
    "today = datetime.today()\n",
    "df['Recency'] = (today - df['Transaction_Date']).dt.days\n",
    "\n",
    "# Menghitung Frequency (jumlah transaksi per pelanggan)\n",
    "customer_frequency = df.groupby('Customer_ID')['Transaction_ID'].count()\n",
    "\n",
    "# Menghitung Monetary (total pengeluaran per pelanggan)\n",
    "df['Monetary'] = df['Quantity'] * df['Price']\n",
    "customer_monetary = df.groupby('Customer_ID')['Monetary'].sum()\n",
    "\n",
    "# Gabungkan hasil analisis RFM\n",
    "rfm_df = pd.DataFrame({'Frequency': customer_frequency, 'Monetary': customer_monetary})\n",
    "rfm_df['Recency'] = df.groupby('Customer_ID')['Recency'].min()\n",
    "rfm_df.head()"
   ]
  }
 ],
 "metadata": {
  "kernelspec": {
   "display_name": "Python 3",
   "language": "python",
   "name": "python3"
  },
  "language_info": {
   "codemirror_mode": {
    "name": "ipython",
    "version": 3
   },
   "file_extension": ".py",
   "mimetype": "text/x-python",
   "name": "python",
   "nbconvert_exporter": "python",
   "version": "3.8.5"
  }
 },
 "nbformat": 4,
 "nbformat_minor": 5
}
